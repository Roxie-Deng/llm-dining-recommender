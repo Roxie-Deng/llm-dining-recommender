{
 "cells": [
  {
   "cell_type": "code",
   "execution_count": 1,
   "metadata": {},
   "outputs": [
    {
     "name": "stdout",
     "output_type": "stream",
     "text": [
      "Train set saved to data/data_split\\train_interactions_n4.csv\n",
      "Test set saved to data/data_split\\test_interactions_n4.csv\n",
      "Statistics saved to data/data_split\\split_stat_n4.json\n",
      "\n",
      "\n"
     ]
    }
   ],
   "source": [
    "import subprocess\n",
    "\n",
    "# Define your parameters\n",
    "user_business_path = 'data/processed/user/user_business_map.csv'\n",
    "business_sample_path = 'data/processed/stratified_sample.json'\n",
    "output_dir = 'data/data_split'\n",
    "n = 4\n",
    "\n",
    "# Build the command\n",
    "cmd = [\n",
    "    'python', 'src/data_split/split_train_test_by_activity.py',\n",
    "    '--user_business_path', user_business_path,\n",
    "    '--business_sample_path', business_sample_path,\n",
    "    '--output_dir', output_dir,\n",
    "    '--n', str(n)\n",
    "]\n",
    "\n",
    "# Run the script\n",
    "result = subprocess.run(cmd, capture_output=True, text=True)\n",
    "print(result.stdout)\n",
    "print(result.stderr)"
   ]
  },
  {
   "cell_type": "code",
   "execution_count": 6,
   "metadata": {},
   "outputs": [
    {
     "name": "stdout",
     "output_type": "stream",
     "text": [
      "Business profile base table saved to data/data_split/business_profile_base.csv\n",
      "\n",
      "\n"
     ]
    }
   ],
   "source": [
    "import subprocess\n",
    "\n",
    "# Define your parameters\n",
    "business_json = 'data/processed/stratified_sample.json'\n",
    "train_interactions = 'data/data_split/train_interactions_n4.csv'\n",
    "review_data = 'data/raw/yelp_academic_dataset_review.json'\n",
    "output_path = 'data/data_split/business_profile_base.csv'\n",
    "review_top_n = 10\n",
    "\n",
    "# Build the command\n",
    "cmd = [\n",
    "    'python', 'src/features/generate_business_profile_base.py',\n",
    "    '--business_json', business_json,\n",
    "    '--train_interactions', train_interactions,\n",
    "    '--review_data', review_data,\n",
    "    '--output_path', output_path,\n",
    "    '--review_top_n', str(review_top_n)\n",
    "]\n",
    "\n",
    "# Run the script\n",
    "result = subprocess.run(cmd, capture_output=True, text=True)\n",
    "print(result.stdout)\n",
    "print(result.stderr)"
   ]
  },
  {
   "cell_type": "code",
   "execution_count": 1,
   "metadata": {},
   "outputs": [
    {
     "data": {
      "text/plain": [
       "BartForConditionalGeneration(\n",
       "  (model): BartModel(\n",
       "    (shared): BartScaledWordEmbedding(50264, 1024, padding_idx=1)\n",
       "    (encoder): BartEncoder(\n",
       "      (embed_tokens): BartScaledWordEmbedding(50264, 1024, padding_idx=1)\n",
       "      (embed_positions): BartLearnedPositionalEmbedding(1026, 1024)\n",
       "      (layers): ModuleList(\n",
       "        (0-11): 12 x BartEncoderLayer(\n",
       "          (self_attn): BartSdpaAttention(\n",
       "            (k_proj): Linear(in_features=1024, out_features=1024, bias=True)\n",
       "            (v_proj): Linear(in_features=1024, out_features=1024, bias=True)\n",
       "            (q_proj): Linear(in_features=1024, out_features=1024, bias=True)\n",
       "            (out_proj): Linear(in_features=1024, out_features=1024, bias=True)\n",
       "          )\n",
       "          (self_attn_layer_norm): LayerNorm((1024,), eps=1e-05, elementwise_affine=True)\n",
       "          (activation_fn): GELUActivation()\n",
       "          (fc1): Linear(in_features=1024, out_features=4096, bias=True)\n",
       "          (fc2): Linear(in_features=4096, out_features=1024, bias=True)\n",
       "          (final_layer_norm): LayerNorm((1024,), eps=1e-05, elementwise_affine=True)\n",
       "        )\n",
       "      )\n",
       "      (layernorm_embedding): LayerNorm((1024,), eps=1e-05, elementwise_affine=True)\n",
       "    )\n",
       "    (decoder): BartDecoder(\n",
       "      (embed_tokens): BartScaledWordEmbedding(50264, 1024, padding_idx=1)\n",
       "      (embed_positions): BartLearnedPositionalEmbedding(1026, 1024)\n",
       "      (layers): ModuleList(\n",
       "        (0-11): 12 x BartDecoderLayer(\n",
       "          (self_attn): BartSdpaAttention(\n",
       "            (k_proj): Linear(in_features=1024, out_features=1024, bias=True)\n",
       "            (v_proj): Linear(in_features=1024, out_features=1024, bias=True)\n",
       "            (q_proj): Linear(in_features=1024, out_features=1024, bias=True)\n",
       "            (out_proj): Linear(in_features=1024, out_features=1024, bias=True)\n",
       "          )\n",
       "          (activation_fn): GELUActivation()\n",
       "          (self_attn_layer_norm): LayerNorm((1024,), eps=1e-05, elementwise_affine=True)\n",
       "          (encoder_attn): BartSdpaAttention(\n",
       "            (k_proj): Linear(in_features=1024, out_features=1024, bias=True)\n",
       "            (v_proj): Linear(in_features=1024, out_features=1024, bias=True)\n",
       "            (q_proj): Linear(in_features=1024, out_features=1024, bias=True)\n",
       "            (out_proj): Linear(in_features=1024, out_features=1024, bias=True)\n",
       "          )\n",
       "          (encoder_attn_layer_norm): LayerNorm((1024,), eps=1e-05, elementwise_affine=True)\n",
       "          (fc1): Linear(in_features=1024, out_features=4096, bias=True)\n",
       "          (fc2): Linear(in_features=4096, out_features=1024, bias=True)\n",
       "          (final_layer_norm): LayerNorm((1024,), eps=1e-05, elementwise_affine=True)\n",
       "        )\n",
       "      )\n",
       "      (layernorm_embedding): LayerNorm((1024,), eps=1e-05, elementwise_affine=True)\n",
       "    )\n",
       "  )\n",
       "  (lm_head): Linear(in_features=1024, out_features=50264, bias=False)\n",
       ")"
      ]
     },
     "execution_count": 1,
     "metadata": {},
     "output_type": "execute_result"
    }
   ],
   "source": [
    "from transformers import AutoTokenizer, AutoModelForSeq2SeqLM\n",
    "AutoTokenizer.from_pretrained('facebook/bart-large-cnn')\n",
    "AutoModelForSeq2SeqLM.from_pretrained('facebook/bart-large-cnn')"
   ]
  },
  {
   "cell_type": "code",
   "execution_count": 1,
   "metadata": {},
   "outputs": [
    {
     "name": "stdout",
     "output_type": "stream",
     "text": [
      "Model and tokenizer loaded successfully!\n"
     ]
    }
   ],
   "source": [
    "from transformers import AutoTokenizer, AutoModelForSeq2SeqLM\n",
    "tokenizer = AutoTokenizer.from_pretrained('facebook/bart-large-cnn')\n",
    "model = AutoModelForSeq2SeqLM.from_pretrained('facebook/bart-large-cnn')\n",
    "print(\"Model and tokenizer loaded successfully!\")"
   ]
  },
  {
   "cell_type": "code",
   "execution_count": 4,
   "metadata": {},
   "outputs": [
    {
     "name": "stdout",
     "output_type": "stream",
     "text": [
      "Running: python src/features/generate_business_profile.py --input_base data/data_split/business_profile_base.csv --output data/features/business_profile_v1.csv --mode v1\n",
      "[INFO] Saved v1 profile to data/features/business_profile_v1.csv\n",
      "\n",
      "\n",
      "Running: python src/features/generate_business_profile.py --input_base data/data_split/business_profile_base.csv --output data/features/business_profile_v2.csv --mode v2\n",
      "[INFO] Saved v2 profile to data/features/business_profile_v2.csv\n",
      "\n",
      "\n",
      "Running: python src/features/generate_business_profile.py --input_base data/data_split/business_profile_base.csv --output data/features/business_profile_v3.csv --mode v3\n",
      "[INFO] Saved v3 profile to data/features/business_profile_v3.csv\n",
      "\n",
      "\n",
      "Running: python src/features/generate_business_profile.py --input_base data/data_split/business_profile_base_with_summary.csv --output data/features/business_profile_v4.csv --mode v4\n",
      "[INFO] Saved v4 profile to data/features/business_profile_v4.csv\n",
      "\n",
      "\n"
     ]
    }
   ],
   "source": [
    "import subprocess\n",
    "\n",
    "input_base = 'data/data_split/business_profile_base.csv'\n",
    "input_with_summary = 'data/data_split/business_profile_base_with_summary.csv'\n",
    "\n",
    "output_v1 = 'data/features/business_profile_v1.csv'\n",
    "output_v2 = 'data/features/business_profile_v2.csv'\n",
    "output_v3 = 'data/features/business_profile_v3.csv'\n",
    "output_v4 = 'data/features/business_profile_v4.csv'\n",
    "\n",
    "# v1\n",
    "cmd_v1 = [\n",
    "    'python', 'src/features/generate_business_profile.py',\n",
    "    '--input_base', input_base,\n",
    "    '--output', output_v1,\n",
    "    '--mode', 'v1'\n",
    "]\n",
    "# v2\n",
    "cmd_v2 = [\n",
    "    'python', 'src/features/generate_business_profile.py',\n",
    "    '--input_base', input_base,\n",
    "    '--output', output_v2,\n",
    "    '--mode', 'v2'\n",
    "]\n",
    "# v3\n",
    "cmd_v3 = [\n",
    "    'python', 'src/features/generate_business_profile.py',\n",
    "    '--input_base', input_base,\n",
    "    '--output', output_v3,\n",
    "    '--mode', 'v3'\n",
    "]\n",
    "# v4\n",
    "cmd_v4 = [\n",
    "    'python', 'src/features/generate_business_profile.py',\n",
    "    '--input_base', input_with_summary,\n",
    "    '--output', output_v4,\n",
    "    '--mode', 'v4'\n",
    "]\n",
    "\n",
    "for cmd in [cmd_v1, cmd_v2, cmd_v3, cmd_v4]:\n",
    "    print(f\"Running: {' '.join(cmd)}\")\n",
    "    result = subprocess.run(cmd, capture_output=True, text=True)\n",
    "    print(result.stdout)\n",
    "    print(result.stderr)"
   ]
  }
 ],
 "metadata": {
  "kernelspec": {
   "display_name": "base",
   "language": "python",
   "name": "python3"
  },
  "language_info": {
   "codemirror_mode": {
    "name": "ipython",
    "version": 3
   },
   "file_extension": ".py",
   "mimetype": "text/x-python",
   "name": "python",
   "nbconvert_exporter": "python",
   "pygments_lexer": "ipython3",
   "version": "3.12.4"
  }
 },
 "nbformat": 4,
 "nbformat_minor": 2
}
