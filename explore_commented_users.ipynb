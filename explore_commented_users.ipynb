{
 "cells": [
  {
   "cell_type": "code",
   "execution_count": 1,
   "metadata": {},
   "outputs": [],
   "source": [
    "import sys\n",
    "sys.path.append('src/preprocessing/user')\n",
    "\n",
    "from extract_commented_users import extract_commented_users\n",
    "\n",
    "sampled_business_path = 'data/processed/stratified_sample.json'\n",
    "review_path = 'data/raw/yelp_academic_dataset_review.json'\n",
    "commented_users_path = 'data/processed/user/commented_users.csv'\n",
    "user_business_map_path = 'data/processed/user/user_business_map.csv'\n",
    "\n",
    "extract_commented_users(\n",
    "    sampled_business_path,\n",
    "    review_path,\n",
    "    commented_users_path,\n",
    "    user_business_map_path\n",
    ")"
   ]
  }
 ],
 "metadata": {
  "kernelspec": {
   "display_name": "base",
   "language": "python",
   "name": "python3"
  },
  "language_info": {
   "codemirror_mode": {
    "name": "ipython",
    "version": 3
   },
   "file_extension": ".py",
   "mimetype": "text/x-python",
   "name": "python",
   "nbconvert_exporter": "python",
   "pygments_lexer": "ipython3",
   "version": "3.12.4"
  }
 },
 "nbformat": 4,
 "nbformat_minor": 2
}
